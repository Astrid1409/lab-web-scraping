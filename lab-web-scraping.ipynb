{
 "cells": [
  {
   "cell_type": "markdown",
   "id": "7e7a1ab8-2599-417d-9a65-25ef07f3a786",
   "metadata": {
    "id": "7e7a1ab8-2599-417d-9a65-25ef07f3a786"
   },
   "source": [
    "# Lab | Web Scraping"
   ]
  },
  {
   "cell_type": "markdown",
   "id": "ce8882fc-4815-4567-92fa-b4816358ba7d",
   "metadata": {
    "id": "ce8882fc-4815-4567-92fa-b4816358ba7d"
   },
   "source": [
    "Welcome to the \"Books to Scrape\" Web Scraping Adventure Lab!\n",
    "\n",
    "**Objective**\n",
    "\n",
    "In this lab, we will embark on a mission to unearth valuable insights from the data available on Books to Scrape, an online platform showcasing a wide variety of books. As data analyst, you have been tasked with scraping a specific subset of book data from Books to Scrape to assist publishing companies in understanding the landscape of highly-rated books across different genres. Your insights will help shape future book marketing strategies and publishing decisions.\n",
    "\n",
    "**Background**\n",
    "\n",
    "In a world where data has become the new currency, businesses are leveraging big data to make informed decisions that drive success and profitability. The publishing industry, much like others, utilizes data analytics to understand market trends, reader preferences, and the performance of books based on factors such as genre, author, and ratings. Books to Scrape serves as a rich source of such data, offering detailed information about a diverse range of books, making it an ideal platform for extracting insights to aid in informed decision-making within the literary world.\n",
    "\n",
    "**Task**\n",
    "\n",
    "Your task is to create a Python script using BeautifulSoup and pandas to scrape Books to Scrape book data, focusing on book ratings and genres. The script should be able to filter books with ratings above a certain threshold and in specific genres. Additionally, the script should structure the scraped data in a tabular format using pandas for further analysis.\n",
    "\n",
    "**Expected Outcome**\n",
    "\n",
    "A function named `scrape_books` that takes two parameters: `min_rating` and `max_price`. The function should scrape book data from the \"Books to Scrape\" website and return a `pandas` DataFrame with the following columns:\n",
    "\n",
    "**Expected Outcome**\n",
    "\n",
    "- A function named `scrape_books` that takes two parameters: `min_rating` and `max_price`.\n",
    "- The function should return a DataFrame with the following columns:\n",
    "  - **UPC**: The Universal Product Code (UPC) of the book.\n",
    "  - **Title**: The title of the book.\n",
    "  - **Price (£)**: The price of the book in pounds.\n",
    "  - **Rating**: The rating of the book (1-5 stars).\n",
    "  - **Genre**: The genre of the book.\n",
    "  - **Availability**: Whether the book is in stock or not.\n",
    "  - **Description**: A brief description or product description of the book (if available).\n",
    "  \n",
    "You will execute this script to scrape data for books with a minimum rating of `4.0 and above` and a maximum price of `£20`. \n",
    "\n",
    "Remember to experiment with different ratings and prices to ensure your code is versatile and can handle various searches effectively!\n",
    "\n",
    "**Resources**\n",
    "\n",
    "- [Beautiful Soup Documentation](https://www.crummy.com/software/BeautifulSoup/bs4/doc/)\n",
    "- [Pandas Documentation](https://pandas.pydata.org/pandas-docs/stable/index.html)\n",
    "- [Books to Scrape](https://books.toscrape.com/)\n"
   ]
  },
  {
   "cell_type": "markdown",
   "id": "3519921d-5890-445b-9a33-934ed8ee378c",
   "metadata": {
    "id": "3519921d-5890-445b-9a33-934ed8ee378c"
   },
   "source": [
    "**Hint**\n",
    "\n",
    "Your first mission is to familiarize yourself with the **Books to Scrape** website. Navigate to [Books to Scrape](http://books.toscrape.com/) and explore the available books to understand their layout and structure. \n",
    "\n",
    "Next, think about how you can set parameters for your data extraction:\n",
    "\n",
    "- **Minimum Rating**: Focus on books with a rating of 4.0 and above.\n",
    "- **Maximum Price**: Filter for books priced up to £20.\n",
    "\n",
    "After reviewing the site, you can construct a plan for scraping relevant data. Pay attention to the details displayed for each book, including the title, price, rating, and availability. This will help you identify the correct HTML elements to target with your scraping script.\n",
    "\n",
    "Make sure to build your scraping URL and logic based on the patterns you observe in the HTML structure of the book listings!"
   ]
  },
  {
   "cell_type": "markdown",
   "id": "25a83a0d-a742-49f6-985e-e27887cbf922",
   "metadata": {
    "id": "25a83a0d-a742-49f6-985e-e27887cbf922"
   },
   "source": [
    "\n",
    "---\n",
    "\n",
    "**Best of luck! Immerse yourself in the world of books, and may the data be with you!**"
   ]
  },
  {
   "cell_type": "markdown",
   "id": "7b75cf0d-9afa-4eec-a9e2-befeac68b2a0",
   "metadata": {
    "id": "7b75cf0d-9afa-4eec-a9e2-befeac68b2a0"
   },
   "source": [
    "**Important Note**:\n",
    "\n",
    "In the fast-changing online world, websites often update and change their structures. When you try this lab, the **Books to Scrape** website might differ from what you expect.\n",
    "\n",
    "If you encounter issues due to these changes, like new rules or obstacles preventing data extraction, don’t worry! Get creative.\n",
    "\n",
    "You can choose another website that interests you and is suitable for scraping data. Options like Wikipedia, The New York Times, or even library databases are great alternatives. The main goal remains the same: extract useful data and enhance your web scraping skills while exploring a source of information you enjoy. This is your opportunity to practice and adapt to different web environments!"
   ]
  },
  {
   "cell_type": "code",
   "execution_count": null,
   "id": "40359eee-9cd7-4884-bfa4-83344c222305",
   "metadata": {
    "id": "40359eee-9cd7-4884-bfa4-83344c222305"
   },
   "outputs": [],
   "source": [
    "# Your solution goes here\n",
    "import pandas as pd\n",
    "from bs4 import BeautifulSoup\n",
    "import requests\n",
    "\n",
    "# ⚙️ Settings\n",
    "pd.set_option('display.max_columns', None) # display all columns\n",
    "import warnings\n",
    "warnings.filterwarnings('ignore') # ignore warnings\n"
   ]
  },
  {
   "cell_type": "code",
   "execution_count": null,
   "id": "67e6d29d-b03e-406d-b478-37a639e50cfd",
   "metadata": {},
   "outputs": [],
   "source": [
    "# get the link\n",
    "link = \"https://books.toscrape.com/\""
   ]
  },
  {
   "cell_type": "code",
   "execution_count": null,
   "id": "07af6965-c3d9-4960-96a8-aaa79ac146e8",
   "metadata": {},
   "outputs": [],
   "source": [
    "response = requests.get(link)\n",
    "response.status_code # 200 status code means OK! "
   ]
  },
  {
   "cell_type": "code",
   "execution_count": null,
   "id": "64f6bd88-c90c-4e33-97bb-18d41db8e935",
   "metadata": {},
   "outputs": [],
   "source": [
    "html = response.text\n",
    "html"
   ]
  },
  {
   "cell_type": "code",
   "execution_count": null,
   "id": "d2407762-0ab1-46c4-acb8-e677ce8c624f",
   "metadata": {},
   "outputs": [],
   "source": [
    "soup = BeautifulSoup(html, 'html.parser')"
   ]
  },
  {
   "cell_type": "code",
   "execution_count": null,
   "id": "8d1990aa-119e-4b6e-9a5e-c6bf51e06360",
   "metadata": {},
   "outputs": [],
   "source": [
    "lista_h3 =soup.find_all(\"h3\")\n",
    "lista_h3"
   ]
  },
  {
   "cell_type": "code",
   "execution_count": null,
   "id": "d3305e34-0eb3-4a94-a1bd-9f4bbcec095d",
   "metadata": {},
   "outputs": [],
   "source": [
    "lista_titulos = []\n",
    "for elemento in lista_h3:\n",
    "    lista_titulos.append(elemento.find(\"a\").get(\"title\"))\n",
    "lista_titulos"
   ]
  },
  {
   "cell_type": "code",
   "execution_count": null,
   "id": "f2e37dd1-e4eb-4f46-899d-d70091c29a36",
   "metadata": {},
   "outputs": [],
   "source": [
    "lista_price_color = soup.find_all(class_ =\"price_color\")\n",
    "lista_price_color"
   ]
  },
  {
   "cell_type": "code",
   "execution_count": null,
   "id": "cb0bee48-cabc-41ee-b9dd-84e970b90eac",
   "metadata": {},
   "outputs": [],
   "source": [
    "precio = []\n",
    "\n",
    "for elemento in lista_price_color:\n",
    "    precio_limpio = float(elemento.get_text()[2:])\n",
    "    precio.append(precio_limpio)\n",
    "precio\n",
    "    "
   ]
  },
  {
   "cell_type": "code",
   "execution_count": null,
   "id": "6fa0abf7-91f0-4e9e-8790-3aea12f17af7",
   "metadata": {},
   "outputs": [],
   "source": [
    "lista_rating = soup.find_all(class_ =\"star-rating\")\n",
    "lista_rating"
   ]
  },
  {
   "cell_type": "code",
   "execution_count": null,
   "id": "144a761d-9f27-46fb-b7d8-7301eb307121",
   "metadata": {},
   "outputs": [],
   "source": [
    "ratings = []\n",
    "\n",
    "for elemento in lista_rating:\n",
    "    \n",
    "    rating_limpio = elemento[\"class\"][1]\n",
    "    ratings.append(rating_limpio)\n",
    "\n",
    "ratings\n"
   ]
  },
  {
   "cell_type": "code",
   "execution_count": null,
   "id": "5488ffce-16d7-4bea-ad71-1eb844f7bf3d",
   "metadata": {},
   "outputs": [],
   "source": [
    "ratings_numericos = []\n",
    "for rating in ratings:\n",
    "    rating_numero = rating.replace(\"One\", \"1\").replace(\"Two\", \"2\").replace(\"Three\", \"3\").replace(\"Four\", \"4\").replace(\"Five\", \"5\")\n",
    "    ratings_numericos.append(int(rating_numero))  \n",
    "ratings_numericos\n",
    "\n"
   ]
  },
  {
   "cell_type": "code",
   "execution_count": null,
   "id": "d4b912af-b74a-4a92-84ab-b34ce3c855a3",
   "metadata": {},
   "outputs": [],
   "source": [
    "#Availability: Whether the book is in stock or not.\n",
    "lista_availability = soup.find_all(class_ =\"instock availability\")\n",
    "lista_availability"
   ]
  },
  {
   "cell_type": "code",
   "execution_count": null,
   "id": "c4a4f167-399f-4e56-8396-a851b33bb8fd",
   "metadata": {},
   "outputs": [],
   "source": [
    "available = []\n",
    "\n",
    "for elemento in lista_availability:\n",
    "    available_limpio = elemento.get_text(strip=True)\n",
    "    available.append(available_limpio)\n",
    "\n",
    "available\n",
    "\n"
   ]
  },
  {
   "cell_type": "code",
   "execution_count": null,
   "id": "e908bba7-030c-4642-8631-91e3fab7de62",
   "metadata": {},
   "outputs": [],
   "source": [
    "#me traigo los hipervinculos \n",
    "lista_h3 \n"
   ]
  },
  {
   "cell_type": "code",
   "execution_count": null,
   "id": "e113e4c0-8a64-4e0d-8ae1-6984fff67df9",
   "metadata": {},
   "outputs": [],
   "source": [
    "urls = []\n",
    "\n",
    "for elemento in lista_h3:\n",
    "    url = elemento.find(\"a\")[\"href\"]\n",
    "    url = \"https://books.toscrape.com/\"+url\n",
    "    urls.append(url)\n",
    "\n",
    "urls\n"
   ]
  },
  {
   "cell_type": "code",
   "execution_count": null,
   "id": "b92fa901-a8ad-49eb-bece-5f306ee73a80",
   "metadata": {},
   "outputs": [],
   "source": [
    "descriptions = []\n",
    "upcs = []\n",
    "genders = []\n",
    "\n",
    "for element in urls:\n",
    "    response = requests.get(element)\n",
    "    html = response.text\n",
    "    soup = BeautifulSoup(html, 'html.parser')\n",
    "    upcs.append(soup.find_all(\"td\")[0].get_text())\n",
    "    genders.append(soup.find_all(\"li\")[2].get_text(strip = True))\n",
    "    descriptions.append(soup.find_all(\"p\")[3].get_text(strip = True))\n"
   ]
  },
  {
   "cell_type": "code",
   "execution_count": null,
   "id": "5169223f-c033-474d-9651-619f7e3ab4fa",
   "metadata": {},
   "outputs": [],
   "source": [
    "len(genders)"
   ]
  },
  {
   "cell_type": "code",
   "execution_count": null,
   "id": "6fcdf1d0-19fa-4475-b25d-40deca652916",
   "metadata": {},
   "outputs": [],
   "source": [
    "dictionary = {\"UPC\":upcs,\n",
    "              \"Title\":lista_titulos,\n",
    "              \"Price\":precio,\n",
    "              \"Rating\":ratings_numericos,\n",
    "              \"Genre\":genders,\n",
    "              \"Availability\":available,\n",
    "              \"Description\":descriptions}\n"
   ]
  },
  {
   "cell_type": "code",
   "execution_count": null,
   "id": "76fa4f4a-593f-47b3-a0bb-3949162d99b7",
   "metadata": {},
   "outputs": [],
   "source": [
    "books_df = pd.DataFrame(data = dictionary)\n",
    "books_df"
   ]
  },
  {
   "cell_type": "code",
   "execution_count": null,
   "id": "0f3f82f8-9c29-41c0-924a-632b69578a62",
   "metadata": {},
   "outputs": [],
   "source": [
    "books_df.info()"
   ]
  },
  {
   "cell_type": "markdown",
   "id": "7bf0dcb0-f46b-41ab-8771-96fb03d93785",
   "metadata": {},
   "source": [
    "AHORA HICIMOS UNA FUNCION PARA QUE ME TRAIGA TODO LO QUE HICE A function named scrape_books that takes two parameters: min_rating and max_price. The function should scrape book data from the \"Books to Scrape\" website and return a pandas DataFrame with the following columns:\n"
   ]
  },
  {
   "cell_type": "code",
   "execution_count": null,
   "id": "a2a3ac7d-966e-42a1-aa9e-1c0a0e6b12f6",
   "metadata": {},
   "outputs": [],
   "source": [
    "def scrape_books(min_rating,max_price):\n",
    "    link = \"https://books.toscrape.com/\"\n",
    "    response = requests.get(link)\n",
    "    response.status_code # 200 status code means OK! \n",
    "    html = response.text\n",
    "    soup = BeautifulSoup(html, 'html.parser')\n",
    "    lista_h3 =soup.find_all(\"h3\")\n",
    "    lista_titulos = []\n",
    "    for elemento in lista_h3:\n",
    "        lista_titulos.append(elemento.find(\"a\").get(\"title\"))\n",
    "    lista_price_color = soup.find_all(class_ =\"price_color\")\n",
    "    precio = []\n",
    "    for elemento in lista_price_color:\n",
    "        precio_limpio = float(elemento.get_text()[2:])\n",
    "        precio.append(precio_limpio)\n",
    "    lista_rating = soup.find_all(class_ =\"star-rating\")\n",
    "    ratings = []\n",
    "    for elemento in lista_rating:\n",
    "        rating_limpio = elemento[\"class\"][1]\n",
    "        ratings.append(rating_limpio)\n",
    "    ratings_numericos = []\n",
    "    for rating in ratings:\n",
    "        rating_numero = rating.replace(\"One\", \"1\").replace(\"Two\", \"2\").replace(\"Three\", \"3\").replace(\"Four\", \"4\").replace(\"Five\", \"5\")\n",
    "        ratings_numericos.append(int(rating_numero))\n",
    "    lista_availability = soup.find_all(class_ =\"instock availability\")\n",
    "    available = []\n",
    "    for elemento in lista_availability:\n",
    "        available_limpio = elemento.get_text(strip=True)\n",
    "        available.append(available_limpio)\n",
    "    urls = []\n",
    "    for elemento in lista_h3:\n",
    "        url = elemento.find(\"a\")[\"href\"]\n",
    "        url = \"https://books.toscrape.com/\"+url\n",
    "        urls.append(url)\n",
    "    descriptions = []\n",
    "    upcs = []\n",
    "    genders = []\n",
    "    for element in urls:\n",
    "        response = requests.get(element)\n",
    "        html = response.text\n",
    "        soup = BeautifulSoup(html, 'html.parser')\n",
    "        upcs.append(soup.find_all(\"td\")[0].get_text())\n",
    "        genders.append(soup.find_all(\"li\")[2].get_text(strip = True))\n",
    "        descriptions.append(soup.find_all(\"p\")[3].get_text(strip = True))\n",
    "    dictionary = {\"UPC\":upcs,\n",
    "              \"Title\":lista_titulos,\n",
    "              \"Price\":precio,\n",
    "              \"Rating\":ratings_numericos,\n",
    "              \"Genre\":genders,\n",
    "              \"Availability\":available,\n",
    "              \"Description\":descriptions}\n",
    "    books_df = pd.DataFrame(data = dictionary)\n",
    "    filtered_df = books_df[(books_df[\"Rating\"] >= min_rating) & (books_df[\"Price\"] <= max_price)].reset_index(drop = True)\n",
    "    return filtered_df\n",
    "\n",
    "        \n",
    "    \n",
    "\n",
    "\n",
    "    \n",
    "    "
   ]
  },
  {
   "cell_type": "code",
   "execution_count": null,
   "id": "0d10ec92-2f27-49f9-8917-d3e746b94c24",
   "metadata": {},
   "outputs": [],
   "source": [
    "book = scrape_books(3,20)\n",
    "book"
   ]
  },
  {
   "cell_type": "code",
   "execution_count": null,
   "id": "69854010-e345-43c0-a662-a353c6b88e8c",
   "metadata": {},
   "outputs": [],
   "source": []
  }
 ],
 "metadata": {
  "colab": {
   "provenance": []
  },
  "kernelspec": {
   "display_name": "Python 3 (ipykernel)",
   "language": "python",
   "name": "python3"
  },
  "language_info": {
   "codemirror_mode": {
    "name": "ipython",
    "version": 3
   },
   "file_extension": ".py",
   "mimetype": "text/x-python",
   "name": "python",
   "nbconvert_exporter": "python",
   "pygments_lexer": "ipython3",
   "version": "3.12.4"
  }
 },
 "nbformat": 4,
 "nbformat_minor": 5
}
